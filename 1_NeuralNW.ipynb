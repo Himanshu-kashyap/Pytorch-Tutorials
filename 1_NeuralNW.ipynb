{
  "nbformat": 4,
  "nbformat_minor": 0,
  "metadata": {
    "colab": {
      "name": "1 NeuralNW pytorch udacity.ipynb",
      "version": "0.3.2",
      "provenance": [],
      "collapsed_sections": [
        "rVWLzfGiKleQ"
      ],
      "toc_visible": true
    },
    "kernelspec": {
      "name": "python3",
      "display_name": "Python 3"
    }
  },
  "cells": [
    {
      "cell_type": "markdown",
      "metadata": {
        "id": "UnJbeQWEFTjF",
        "colab_type": "text"
      },
      "source": [
        "###imports"
      ]
    },
    {
      "cell_type": "code",
      "metadata": {
        "id": "plkA3n87FYge",
        "colab_type": "code",
        "colab": {}
      },
      "source": [
        "import numpy as np\n",
        "import torch"
      ],
      "execution_count": 0,
      "outputs": []
    },
    {
      "cell_type": "markdown",
      "metadata": {
        "id": "uBlyf5Fc6E3a",
        "colab_type": "text"
      },
      "source": [
        "### sigmoid function"
      ]
    },
    {
      "cell_type": "code",
      "metadata": {
        "id": "TKpL0U4v58WW",
        "colab_type": "code",
        "colab": {}
      },
      "source": [
        "def sigmoid(x):\n",
        "  return(1/1+np.exp(-x))"
      ],
      "execution_count": 0,
      "outputs": []
    },
    {
      "cell_type": "markdown",
      "metadata": {
        "id": "4Uhoi05KFpso",
        "colab_type": "text"
      },
      "source": [
        "### create random data"
      ]
    },
    {
      "cell_type": "code",
      "metadata": {
        "id": "fWJlHakSFfqF",
        "colab_type": "code",
        "colab": {}
      },
      "source": [
        "torch.manual_seed(42)\n",
        "\n",
        "features = torch.randn((1,5))\n",
        "wts = torch.randn_like(features)\n",
        "bias = torch.randn((1,1))\n"
      ],
      "execution_count": 0,
      "outputs": []
    },
    {
      "cell_type": "code",
      "metadata": {
        "id": "v0FFPlMjGBRE",
        "colab_type": "code",
        "outputId": "b41d222e-cdcb-4ec4-fe05-e86e156ba6df",
        "colab": {
          "base_uri": "https://localhost:8080/",
          "height": 34
        }
      },
      "source": [
        "y = sigmoid(torch.sum(features*wts)+bias)\n",
        "y"
      ],
      "execution_count": 0,
      "outputs": [
        {
          "output_type": "execute_result",
          "data": {
            "text/plain": [
              "tensor([[1.6616]])"
            ]
          },
          "metadata": {
            "tags": []
          },
          "execution_count": 11
        }
      ]
    },
    {
      "cell_type": "code",
      "metadata": {
        "id": "Wl4f81-_GJJQ",
        "colab_type": "code",
        "outputId": "7f0b7c89-a198-4a4c-8bfa-2ee896cbe6d8",
        "colab": {
          "base_uri": "https://localhost:8080/",
          "height": 34
        }
      },
      "source": [
        "y = sigmoid(torch.mm(features,wts.view(5,1))+bias)  # view will convert to desired output\n",
        "y"
      ],
      "execution_count": 0,
      "outputs": [
        {
          "output_type": "execute_result",
          "data": {
            "text/plain": [
              "tensor([[1.6616]])"
            ]
          },
          "metadata": {
            "tags": []
          },
          "execution_count": 12
        }
      ]
    },
    {
      "cell_type": "code",
      "metadata": {
        "id": "zfaBZpU4Ga3E",
        "colab_type": "code",
        "colab": {}
      },
      "source": [
        "# creating 3 inputs 1 hidden layer and 1 output unit\n",
        "\n",
        "# Features are 3 random normal variables\n",
        "features = torch.randn((1, 3))\n",
        "\n",
        "# Define the size of each layer in our network\n",
        "n_input = features.shape[1]     # Number of input units, must match number of input features\n",
        "n_hidden = 2                    # Number of hidden units \n",
        "n_output = 1                    # Number of output units\n",
        "\n",
        "# Weights for inputs to hidden layer\n",
        "W1 = torch.randn(n_input, n_hidden)\n",
        "# Weights for hidden layer to output layer\n",
        "W2 = torch.randn(n_hidden, n_output)\n",
        "\n",
        "# and bias terms for hidden and output layers\n",
        "B1 = torch.randn((1, n_hidden))\n",
        "B2 = torch.randn((1, n_output))"
      ],
      "execution_count": 0,
      "outputs": []
    },
    {
      "cell_type": "code",
      "metadata": {
        "id": "t8jtdxt6H705",
        "colab_type": "code",
        "outputId": "09b7efa3-5d9c-4749-cd73-7cbce84fe788",
        "colab": {
          "base_uri": "https://localhost:8080/",
          "height": 34
        }
      },
      "source": [
        "h = sigmoid(torch.mm(features,W1)+B1)\n",
        "output = sigmoid(torch.mm(h,W2)+B2)\n",
        "print(output)"
      ],
      "execution_count": 0,
      "outputs": [
        {
          "output_type": "stream",
          "text": [
            "tensor([[1.0742]])\n"
          ],
          "name": "stdout"
        }
      ]
    },
    {
      "cell_type": "markdown",
      "metadata": {
        "id": "nyK8HrrSKxDZ",
        "colab_type": "text"
      },
      "source": [
        "# MNIST"
      ]
    },
    {
      "cell_type": "code",
      "metadata": {
        "id": "b31UIqFkKwmL",
        "colab_type": "code",
        "colab": {}
      },
      "source": [
        "import torch \n",
        "import numpy as np\n",
        "import matplotlib.pyplot as plt"
      ],
      "execution_count": 0,
      "outputs": []
    },
    {
      "cell_type": "code",
      "metadata": {
        "id": "OsUaf8fGIsH9",
        "colab_type": "code",
        "colab": {}
      },
      "source": [
        "from torchvision import datasets,transforms\n",
        "\n",
        "transform = transforms.Compose([transforms.ToTensor(),\n",
        "                                transforms.Normalize((0.5,),(0.5,))  # mean and std deviation\n",
        "                               ])\n",
        "trainset = datasets.MNIST('~/.pytorch/MNIST_data/',download = True,train = True,transform = transform)\n",
        "trainloader = torch.utils.data.DataLoader(trainset,batch_size = 64,shuffle = True)"
      ],
      "execution_count": 0,
      "outputs": []
    },
    {
      "cell_type": "code",
      "metadata": {
        "id": "4AP5XxCDG0t2",
        "colab_type": "code",
        "outputId": "c2ba4e51-ae6a-4262-a4d4-20e34eb5847a",
        "colab": {
          "base_uri": "https://localhost:8080/",
          "height": 68
        }
      },
      "source": [
        "dataiter = iter(trainloader)\n",
        "images, labels = dataiter.next()\n",
        "print(type(images))\n",
        "print(images.shape)\n",
        "print(labels.shape)"
      ],
      "execution_count": 0,
      "outputs": [
        {
          "output_type": "stream",
          "text": [
            "<class 'torch.Tensor'>\n",
            "torch.Size([64, 1, 28, 28])\n",
            "torch.Size([64])\n"
          ],
          "name": "stdout"
        }
      ]
    },
    {
      "cell_type": "code",
      "metadata": {
        "id": "WecaygJ0PVTF",
        "colab_type": "code",
        "outputId": "b6d9741c-702c-422a-f981-1ac3cde00c83",
        "colab": {
          "base_uri": "https://localhost:8080/",
          "height": 54
        }
      },
      "source": [
        "# since we need probabilities of each class we use softmax with 10 outputs\n",
        "\n",
        "def softmax(x):\n",
        "  return torch.exp(x)/torch.sum(torch.exp(x),dim =1).view(-1,1)  # dim = 1 sum across columns\n",
        "\n",
        "\n",
        "'''\n",
        "if torch.exp(x) will have 64 X 10 dimension ; torch.sum(torch.exp(x),dim =1) will give tensor of 64 elements dimension will be(64,) we need (64,1)\n",
        "normally torch.exp(x)/torch.sum(torch.exp(x),dim =1) will try to divide torch.exp with all 64 elements of torch.sum()\n",
        "so we do view(-1,1) it will make 64 rows for sum with each row having 1 value row so each value in torch.exp() matches with sum\n",
        "\n",
        "\n",
        "'''"
      ],
      "execution_count": 0,
      "outputs": [
        {
          "output_type": "execute_result",
          "data": {
            "text/plain": [
              "'\\ntorch.exp(x) will have 64 X 10 dimension ; torch.sum(torch.exp(x),dim =1) will give tensor of 64 elements\\nnormally torch.exp(x)/torch.sum(torch.exp(x),dim =1) will try to divide torch.exp with all 64 elements of torch.sum()\\nso we do view(-1,1) it will make 64 rows for sum with each row having 1 value row so each value in torch.exp() matches with sum\\n\\n\\n'"
            ]
          },
          "metadata": {
            "tags": []
          },
          "execution_count": 12
        }
      ]
    },
    {
      "cell_type": "code",
      "metadata": {
        "id": "x4QRar8ND_Rz",
        "colab_type": "code",
        "colab": {}
      },
      "source": [
        "#flatten input images\n",
        "inputs = images.view(images.shape[0],-1) # can also replace -1 with (784) x.shape[0] gives us batch size\n",
        "\n",
        "# create inputs 784\n",
        "w1 = torch.randn(784,256)  # 256 hidden layers\n",
        "b1 = torch.randn(256)\n",
        "\n",
        "w2 = torch.randn(256,10) # 10 output units\n",
        "b2 = torch.randn(10)\n",
        "\n",
        "h = softmax(torch.mm(inputs,w1) + b1)\n",
        "out = torch.mm(h,w2)+b2\n"
      ],
      "execution_count": 0,
      "outputs": []
    },
    {
      "cell_type": "markdown",
      "metadata": {
        "id": "QNAJe-E6M23U",
        "colab_type": "text"
      },
      "source": [
        "## inbuilt method for nn classifying  fashion mnist\n"
      ]
    },
    {
      "cell_type": "code",
      "metadata": {
        "id": "Dy42QS-DHj64",
        "colab_type": "code",
        "colab": {}
      },
      "source": [
        "import torch\n",
        "from torchvision import datasets, transforms\n",
        "import helper\n",
        "\n",
        "# Define a transform to normalize the data\n",
        "transform = transforms.Compose([transforms.ToTensor(),\n",
        "                                transforms.Normalize((0.5,), (0.5,))])\n",
        "# Download and load the training data\n",
        "trainset = datasets.FashionMNIST('~/.pytorch/F_MNIST_data/', download=True, train=True, transform=transform)\n",
        "trainloader = torch.utils.data.DataLoader(trainset, batch_size=64, shuffle=True)\n",
        "\n",
        "# Download and load the test data\n",
        "testset = datasets.FashionMNIST('~/.pytorch/F_MNIST_data/', download=True, train=False, transform=transform)\n",
        "testloader = torch.utils.data.DataLoader(testset, batch_size=64, shuffle=True)"
      ],
      "execution_count": 0,
      "outputs": []
    },
    {
      "cell_type": "code",
      "metadata": {
        "id": "c1TYMX5dP2ox",
        "colab_type": "code",
        "outputId": "082a120d-627d-42c0-cf33-4f7880289b3e",
        "colab": {
          "base_uri": "https://localhost:8080/",
          "height": 180
        }
      },
      "source": [
        "# need helper script link down below\n",
        "image, label = next(iter(trainloader))\n",
        "helper.imshow(image[0,:]);"
      ],
      "execution_count": 0,
      "outputs": [
        {
          "output_type": "error",
          "ename": "AttributeError",
          "evalue": "ignored",
          "traceback": [
            "\u001b[0;31m---------------------------------------------------------------------------\u001b[0m",
            "\u001b[0;31mAttributeError\u001b[0m                            Traceback (most recent call last)",
            "\u001b[0;32m<ipython-input-96-f4afd08dbb7d>\u001b[0m in \u001b[0;36m<module>\u001b[0;34m()\u001b[0m\n\u001b[1;32m      1\u001b[0m \u001b[0mimage\u001b[0m\u001b[0;34m,\u001b[0m \u001b[0mlabel\u001b[0m \u001b[0;34m=\u001b[0m \u001b[0mnext\u001b[0m\u001b[0;34m(\u001b[0m\u001b[0miter\u001b[0m\u001b[0;34m(\u001b[0m\u001b[0mtrainloader\u001b[0m\u001b[0;34m)\u001b[0m\u001b[0;34m)\u001b[0m\u001b[0;34m\u001b[0m\u001b[0;34m\u001b[0m\u001b[0m\n\u001b[0;32m----> 2\u001b[0;31m \u001b[0mhelper\u001b[0m\u001b[0;34m.\u001b[0m\u001b[0mimshow\u001b[0m\u001b[0;34m(\u001b[0m\u001b[0mimage\u001b[0m\u001b[0;34m[\u001b[0m\u001b[0;36m0\u001b[0m\u001b[0;34m,\u001b[0m\u001b[0;34m:\u001b[0m\u001b[0;34m]\u001b[0m\u001b[0;34m)\u001b[0m\u001b[0;34m;\u001b[0m\u001b[0;34m\u001b[0m\u001b[0;34m\u001b[0m\u001b[0m\n\u001b[0m",
            "\u001b[0;31mAttributeError\u001b[0m: module 'helper' has no attribute 'imshow'"
          ]
        }
      ]
    },
    {
      "cell_type": "code",
      "metadata": {
        "id": "LtUoiabQP4gm",
        "colab_type": "code",
        "colab": {}
      },
      "source": [
        "from torch import nn,optim\n",
        "import torch.nn.functional as F # functional will make our work easy"
      ],
      "execution_count": 0,
      "outputs": []
    },
    {
      "cell_type": "markdown",
      "metadata": {
        "id": "F7ekRzvfIGyn",
        "colab_type": "text"
      },
      "source": [
        "## classifier defined"
      ]
    },
    {
      "cell_type": "code",
      "metadata": {
        "id": "cVWi4tu6QJUV",
        "colab_type": "code",
        "colab": {}
      },
      "source": [
        "class Classifier(nn.Module):\n",
        "  def __init__(self):\n",
        "    super().__init__()\n",
        "    self.fc1 = nn.Linear(784,256) # creating a single hidden layer\n",
        "    self.fc2 = nn.Linear(256,128)\n",
        "    self.fc3 = nn.Linear(128,64)\n",
        "    self.fc4 = nn.Linear(64,10)\n",
        "  \n",
        "  def forward(self,x): #forward pass\n",
        "    #print(x.shape) torch.Size([64, 1, 28, 28])\n",
        "    x = x.view(x.shape[0],-1)     # flatten input \n",
        "    #print(x.shape)  torch.Size([64, 784])\n",
        "    x = F.relu(self.fc1(x))       # apply activation function to layer\n",
        "    x = F.relu(self.fc2(x))\n",
        "    x = F.relu(self.fc3(x))\n",
        "    x = F.log_softmax(self.fc4(x),dim =1)  # apply log softmax for output layer where \n",
        "    \n",
        "    return x"
      ],
      "execution_count": 0,
      "outputs": []
    },
    {
      "cell_type": "markdown",
      "metadata": {
        "id": "wOYyKPXFSQ3W",
        "colab_type": "text"
      },
      "source": [
        "### Training the model"
      ]
    },
    {
      "cell_type": "code",
      "metadata": {
        "id": "0qq_PDvxRYoA",
        "colab_type": "code",
        "colab": {}
      },
      "source": [
        "model = Classifier()\n",
        "criterion = nn.NLLLoss()\n",
        "optimizer = optim.Adam(model.parameters(),lr = 0.003)\n"
      ],
      "execution_count": 0,
      "outputs": []
    },
    {
      "cell_type": "code",
      "metadata": {
        "id": "wc2mMRZbSmyq",
        "colab_type": "code",
        "colab": {}
      },
      "source": [
        "epochs = 5\n",
        "\n",
        "for epoch in range(epochs):\n",
        "  running_loss = 0\n",
        "  for images,labels in trainloader:\n",
        "    log_ps = model(images)\n",
        "    loss = criterion(log_ps,labels)\n",
        "    \n",
        "    optimizer.zero_grad()\n",
        "    loss.backward()    # backward pass \n",
        "    optimizer.step()  # to update the weights\n",
        "    \n",
        "    running_loss += loss.item()\n",
        "  \n",
        "  else:  \n",
        "    print(f\"Training loss: {running_loss/len(trainloader)}\")\n",
        "  \n"
      ],
      "execution_count": 0,
      "outputs": []
    },
    {
      "cell_type": "code",
      "metadata": {
        "id": "_DbEyeayTslN",
        "colab_type": "code",
        "colab": {}
      },
      "source": [
        "dataiter = iter(testloader)\n",
        "images, labels = dataiter.next()\n",
        "img = images[1]"
      ],
      "execution_count": 0,
      "outputs": []
    },
    {
      "cell_type": "code",
      "metadata": {
        "id": "Pjel1oyiUFRy",
        "colab_type": "code",
        "colab": {}
      },
      "source": [
        "import matplotlib.pyplot as plt"
      ],
      "execution_count": 0,
      "outputs": []
    },
    {
      "cell_type": "code",
      "metadata": {
        "id": "a0TOMlZSUMzo",
        "colab_type": "code",
        "outputId": "9b035aa1-4056-428d-8bfe-66b0d443119c",
        "colab": {
          "base_uri": "https://localhost:8080/",
          "height": 286
        }
      },
      "source": [
        "plt.imshow(img.reshape(28,28))"
      ],
      "execution_count": 0,
      "outputs": [
        {
          "output_type": "execute_result",
          "data": {
            "text/plain": [
              "<matplotlib.image.AxesImage at 0x7fed1ebd61d0>"
            ]
          },
          "metadata": {
            "tags": []
          },
          "execution_count": 25
        },
        {
          "output_type": "display_data",
          "data": {
            "image/png": "[encoded data removed]",
            "text/plain": [
              "<Figure size 432x288 with 1 Axes>"
            ]
          },
          "metadata": {
            "tags": []
          }
        }
      ]
    },
    {
      "cell_type": "code",
      "metadata": {
        "id": "Y8LOBLz4UOUe",
        "colab_type": "code",
        "outputId": "3b8564c4-79b6-4298-d682-132e41719524",
        "colab": {
          "base_uri": "https://localhost:8080/",
          "height": 68
        }
      },
      "source": [
        "output = torch.exp(model(img))\n",
        "output"
      ],
      "execution_count": 0,
      "outputs": [
        {
          "output_type": "execute_result",
          "data": {
            "text/plain": [
              "tensor([[8.8480e-01, 1.0488e-05, 1.3338e-03, 1.8327e-03, 1.8539e-05, 7.7281e-08,\n",
              "         1.1197e-01, 1.1084e-10, 3.1550e-05, 1.9243e-10]],\n",
              "       grad_fn=<ExpBackward>)"
            ]
          },
          "metadata": {
            "tags": []
          },
          "execution_count": 58
        }
      ]
    },
    {
      "cell_type": "code",
      "metadata": {
        "id": "5BkdMIFLav8E",
        "colab_type": "code",
        "outputId": "075cda88-43bb-4a68-dfd4-542d280ca9e7",
        "colab": {
          "base_uri": "https://localhost:8080/",
          "height": 51
        }
      },
      "source": [
        "output.data"
      ],
      "execution_count": 0,
      "outputs": [
        {
          "output_type": "execute_result",
          "data": {
            "text/plain": [
              "tensor([[8.8480e-01, 1.0488e-05, 1.3338e-03, 1.8327e-03, 1.8539e-05, 7.7281e-08,\n",
              "         1.1197e-01, 1.1084e-10, 3.1550e-05, 1.9243e-10]])"
            ]
          },
          "metadata": {
            "tags": []
          },
          "execution_count": 59
        }
      ]
    },
    {
      "cell_type": "code",
      "metadata": {
        "id": "dh93LLQ6bGL_",
        "colab_type": "code",
        "outputId": "12bd5324-77c5-45e7-fb4a-2a47eab03b6d",
        "colab": {
          "base_uri": "https://localhost:8080/",
          "height": 68
        }
      },
      "source": [
        "output.data.numpy().squeeze()"
      ],
      "execution_count": 0,
      "outputs": [
        {
          "output_type": "execute_result",
          "data": {
            "text/plain": [
              "array([8.8479960e-01, 1.0488332e-05, 1.3337604e-03, 1.8326698e-03,\n",
              "       1.8538793e-05, 7.7280809e-08, 1.1197327e-01, 1.1083554e-10,\n",
              "       3.1550229e-05, 1.9242787e-10], dtype=float32)"
            ]
          },
          "metadata": {
            "tags": []
          },
          "execution_count": 60
        }
      ]
    },
    {
      "cell_type": "code",
      "metadata": {
        "id": "Zg9uP7y-ZuzL",
        "colab_type": "code",
        "colab": {}
      },
      "source": [
        "!wget https://raw.githubusercontent.com/udacity/deep-learning-v2-pytorch/master/intro-to-pytorch/helper.py"
      ],
      "execution_count": 0,
      "outputs": []
    },
    {
      "cell_type": "code",
      "metadata": {
        "id": "a9IZQ8qlaDNS",
        "colab_type": "code",
        "colab": {}
      },
      "source": [
        "# code from above\n",
        "def view_classify(img, ps, version=\"MNIST\"):\n",
        "    ''' Function for viewing an image and it's predicted classes.\n",
        "    '''\n",
        "    ps = ps.data.numpy().squeeze()\n",
        "\n",
        "    fig, (ax1, ax2) = plt.subplots(figsize=(6,9), ncols=2)\n",
        "    ax1.imshow(img.resize_(1, 28, 28).numpy().squeeze())\n",
        "    ax1.axis('off')\n",
        "    ax2.barh(np.arange(10), ps)\n",
        "    ax2.set_aspect(0.1)\n",
        "    ax2.set_yticks(np.arange(10))\n",
        "    if version == \"MNIST\":\n",
        "        ax2.set_yticklabels(np.arange(10))\n",
        "    elif version == \"Fashion\":\n",
        "        ax2.set_yticklabels(['T-shirt/top',\n",
        "                            'Trouser',\n",
        "                            'Pullover',\n",
        "                            'Dress',\n",
        "                            'Coat',\n",
        "                            'Sandal',\n",
        "                            'Shirt',\n",
        "                            'Sneaker',\n",
        "                            'Bag',\n",
        "                            'Ankle Boot'], size='small');\n",
        "    ax2.set_title('Class Probability')\n",
        "    ax2.set_xlim(0, 1.1)\n",
        "\n",
        "    plt.tight_layout()"
      ],
      "execution_count": 0,
      "outputs": []
    },
    {
      "cell_type": "code",
      "metadata": {
        "id": "TgiF2uk0UaM9",
        "colab_type": "code",
        "outputId": "ce97f23f-dd1d-463a-f9b4-55da00c1c985",
        "colab": {
          "base_uri": "https://localhost:8080/",
          "height": 224
        }
      },
      "source": [
        "view_classify(img, output, version='Fashion')\n"
      ],
      "execution_count": 0,
      "outputs": [
        {
          "output_type": "display_data",
          "data": {
            "image/png": "[encoded data removed]",
            "text/plain": [
              "<Figure size 432x648 with 2 Axes>"
            ]
          },
          "metadata": {
            "tags": []
          }
        }
      ]
    },
    {
      "cell_type": "code",
      "metadata": {
        "id": "R38OLjmUUdU4",
        "colab_type": "code",
        "outputId": "ab6cfb1d-7d6f-4a0f-db30-e8d0d72f5904",
        "colab": {
          "base_uri": "https://localhost:8080/",
          "height": 51
        }
      },
      "source": [
        "print(\"actual \",label[1])\n",
        "print(\"predicted\",preds)"
      ],
      "execution_count": 0,
      "outputs": [
        {
          "output_type": "stream",
          "text": [
            "actual  tensor(9)\n",
            "predicted 0\n"
          ],
          "name": "stdout"
        }
      ]
    },
    {
      "cell_type": "markdown",
      "metadata": {
        "id": "kE7bSKMOHwB1",
        "colab_type": "text"
      },
      "source": [
        "### inference and validation\n",
        "\n",
        "inference  = prediction"
      ]
    },
    {
      "cell_type": "code",
      "metadata": {
        "id": "ogxbQDGrUlDy",
        "colab_type": "code",
        "outputId": "d9bd80a0-24f6-4868-8d55-732e41b6da06",
        "colab": {
          "base_uri": "https://localhost:8080/",
          "height": 34
        }
      },
      "source": [
        "model = Classifier()\n",
        "\n",
        "#loading test set\n",
        "images, labels = next(iter(testloader))\n",
        "\n",
        "# Get the class probabilities\n",
        "ps = torch.exp(model(images))   # output of the model trained\n",
        "\n",
        "\n",
        "# Make sure the shape is appropriate, we should get 10 class probabilities for 64 examples\n",
        "print(ps.shape)"
      ],
      "execution_count": 0,
      "outputs": [
        {
          "output_type": "stream",
          "text": [
            "torch.Size([64, 10])\n"
          ],
          "name": "stdout"
        }
      ]
    },
    {
      "cell_type": "code",
      "metadata": {
        "id": "J0EvPi9GIs_K",
        "colab_type": "code",
        "outputId": "45f766c8-10bb-45e5-e364-8ec38971f2d7",
        "colab": {
          "base_uri": "https://localhost:8080/",
          "height": 187
        }
      },
      "source": [
        "#printing top class in the dataset \n",
        "\n",
        "top_p, top_class = ps.topk(1,dim =1) #will print top k classes returns top k numbers and corrs classes\n",
        "\n",
        "print(\"top 10 values\",top_class[:10,:])"
      ],
      "execution_count": 0,
      "outputs": [
        {
          "output_type": "stream",
          "text": [
            "top 10 values tensor([[2],\n",
            "        [2],\n",
            "        [9],\n",
            "        [2],\n",
            "        [2],\n",
            "        [2],\n",
            "        [2],\n",
            "        [9],\n",
            "        [2],\n",
            "        [2]])\n"
          ],
          "name": "stdout"
        }
      ]
    },
    {
      "cell_type": "code",
      "metadata": {
        "id": "zl1lppReJc8r",
        "colab_type": "code",
        "colab": {}
      },
      "source": [
        "#comparing output with our real values ie. label with top_class\n",
        "# but label is 1d tensor of len 64\n",
        "# top_class is 2d tensor of dim 64,1\n",
        "\n",
        "\n",
        "equals = top_class == label.view(-1,1)\n",
        "\n",
        "equals = top_class == label.view(*top_class.shape)"
      ],
      "execution_count": 0,
      "outputs": []
    },
    {
      "cell_type": "markdown",
      "metadata": {
        "id": "Aqv_UgiaKkpe",
        "colab_type": "text"
      },
      "source": [
        "### finding accuracy :\n",
        "simply do sum of all values / no of all values === mean\n",
        "\n",
        "here equals = bool but mean works with int+ so convert equals to float"
      ]
    },
    {
      "cell_type": "code",
      "metadata": {
        "id": "knrW-WigKM5l",
        "colab_type": "code",
        "outputId": "19e59056-f931-4b05-fc3a-cfdada679c3e",
        "colab": {
          "base_uri": "https://localhost:8080/",
          "height": 34
        }
      },
      "source": [
        "accuracy = torch.mean(equals.type(torch.FloatTensor))\n",
        "print(f'Accuracy score is : {accuracy.item()*100}%')\n",
        "\n",
        "#without training our model just random accuracy"
      ],
      "execution_count": 0,
      "outputs": [
        {
          "output_type": "stream",
          "text": [
            "Accuracy score is : 14.0625%\n"
          ],
          "name": "stdout"
        }
      ]
    },
    {
      "cell_type": "markdown",
      "metadata": {
        "id": "4gM0Oc1XU9hj",
        "colab_type": "text"
      },
      "source": [
        "# For training set and validation set and adding drop out"
      ]
    },
    {
      "cell_type": "markdown",
      "metadata": {
        "id": "G_vzsZDpYDRN",
        "colab_type": "text"
      },
      "source": [
        "##imports"
      ]
    },
    {
      "cell_type": "code",
      "metadata": {
        "id": "qp9HGOQBYG7J",
        "colab_type": "code",
        "colab": {}
      },
      "source": [
        "import torch\n",
        "from torchvision import datasets, transforms\n",
        "\n",
        "from torch import nn,optim\n",
        "import torch.nn.functional as F"
      ],
      "execution_count": 0,
      "outputs": []
    },
    {
      "cell_type": "code",
      "metadata": {
        "id": "eHUEpya3iHgG",
        "colab_type": "code",
        "colab": {}
      },
      "source": [
        "# Define a transform to normalize the data\n",
        "transform = transforms.Compose([transforms.ToTensor(),\n",
        "                                transforms.Normalize((0.5,), (0.5,))])\n",
        "# Download and load the training data\n",
        "trainset = datasets.FashionMNIST('~/.pytorch/F_MNIST_data/', download=True, train=True, transform=transform)\n",
        "trainloader = torch.utils.data.DataLoader(trainset, batch_size=64, shuffle=True)\n",
        "\n",
        "# Download and load the test data\n",
        "testset = datasets.FashionMNIST('~/.pytorch/F_MNIST_data/', download=True, train=False, transform=transform)\n",
        "testloader = torch.utils.data.DataLoader(testset, batch_size=64, shuffle=True)"
      ],
      "execution_count": 0,
      "outputs": []
    },
    {
      "cell_type": "markdown",
      "metadata": {
        "id": "tHOCTKLEYQWH",
        "colab_type": "text"
      },
      "source": [
        "## classifier class"
      ]
    },
    {
      "cell_type": "code",
      "metadata": {
        "id": "zqN6l4B5U9Lj",
        "colab_type": "code",
        "colab": {}
      },
      "source": [
        "# avoiding overfitting using dropout\n",
        "\n",
        "class Classifier2(nn.Module):\n",
        "  \n",
        "  def __init__(self):\n",
        "    super().__init__()\n",
        "    self.fc1 = nn.Linear(784, 256)\n",
        "    self.fc2 = nn.Linear(256, 128)\n",
        "    self.fc3 = nn.Linear(128, 64)\n",
        "    self.fc4 = nn.Linear(64, 10)\n",
        "    \n",
        "    self.dropout = nn.Dropout(p = 0.2)   # added drop out\n",
        "    \n",
        "    \n",
        "    \n",
        "  def forward(self,x):\n",
        "    \n",
        "    # print(x.shape)\n",
        "    x = x.view(x.shape[0],-1) #flattening x\n",
        "    # print(x.shape)\n",
        "    x = self.dropout(F.relu(self.fc1(x)))\n",
        "    x = self.dropout(F.relu(self.fc2(x)))\n",
        "    x = self.dropout(F.relu(self.fc3(x)))\n",
        "    \n",
        "    # last output will be using softmax for prob outputs\n",
        "    x = F.log_softmax(self.fc4(x),dim =1)\n",
        "    \n",
        "    output = x\n",
        "    print(\"********************************\",type(output),output,type(x),x)\n",
        "    return output"
      ],
      "execution_count": 0,
      "outputs": []
    },
    {
      "cell_type": "markdown",
      "metadata": {
        "id": "NW9PUhDWZhIs",
        "colab_type": "text"
      },
      "source": [
        "during training only we use drop out during inference we use whole network"
      ]
    },
    {
      "cell_type": "code",
      "metadata": {
        "id": "VLx3GrwaKPp9",
        "colab_type": "code",
        "colab": {}
      },
      "source": [
        "model = Classifier2()\n",
        "criterion = nn.NLLLoss()\n",
        "optimizer = optim.Adam(model.parameters(),lr = 0.003)\n",
        "\n",
        "epochs = 30\n",
        "steps = 0\n",
        "\n",
        "train_losses,test_losses = [],[]\n",
        "\n",
        "for e in range(epochs):\n",
        "  running_loss = 0\n",
        "  for images,labels in trainloader:\n",
        "    \n",
        "    optimizer.zero_grad()\n",
        "    \n",
        "    log_ps = model(images)\n",
        "    loss = criterion(log_ps,labels)\n",
        "    loss.backward() #this is for backward propogation \n",
        "    optimizer.step()  # this is for the steps that will be taken backwards\n",
        "    \n",
        "    running_loss += loss.item()\n",
        "    \n",
        "    \n",
        "  else :\n",
        "    test_loss = 0\n",
        "    accuracy =0\n",
        "    \n",
        "    # turn off gradients for validation, saving memory and computation\n",
        "    \n",
        "    with torch.no_grad():\n",
        "      model.eval() #setting model to evaluation mode\n",
        "      for images,labels in testloader:\n",
        "        log_ps = model(images)\n",
        "        test_loss += criterion(log_ps,labels)\n",
        "        \n",
        "        ps = torch.exp(log_ps)\n",
        "        top_p,top_class = ps.topk(1,dim =1)  # finding top n classes in ouput gives top class labels and values\n",
        "        print(top_p, top_class)\n",
        "        \n",
        "        #shape of top_class = 64,1 and label is 1D tensor with shape 64, so we make labels into shape of top_class\n",
        "        equals = top_class == labels.view(*top_class.shape)\n",
        "        #equals2 = top_class == labels.view(1,-1)\n",
        "        \n",
        "        print(f\"top_class shape : {top_class.shape} without * {top_class.shape}\")\n",
        "        print(f\"equals value orig : {equals}\")\n",
        "        \n",
        "        accuracy += torch.mean(equals.type(torch.FloatTensor))  # equals is in boolean convert to float\n",
        "    \n",
        "    \n",
        "    model.train()\n",
        "    \n",
        "    train_losses.append(running_loss/len(trainloader))\n",
        "    test_losses.append(test_loss/len(testloader))\n",
        "    \n",
        "    print(\"Epoch: {}/{}.. \".format(e+1, epochs),\n",
        "              \"Training Loss: {:.3f}.. \".format(train_losses[-1]),\n",
        "              \"Test Loss: {:.3f}.. \".format(test_losses[-1]),\n",
        "              \"Test Accuracy: {:.3f}\".format(accuracy/len(testloader)))\n",
        "          \n",
        "        \n",
        "        \n",
        "        \n",
        "  "
      ],
      "execution_count": 0,
      "outputs": []
    },
    {
      "cell_type": "code",
      "metadata": {
        "id": "ZS_ANf2NgXu_",
        "colab_type": "code",
        "colab": {}
      },
      "source": [
        "import matplotlib.pyplot as plt"
      ],
      "execution_count": 0,
      "outputs": []
    },
    {
      "cell_type": "code",
      "metadata": {
        "id": "GlPk65AdonC-",
        "colab_type": "code",
        "colab": {}
      },
      "source": [
        "plt.plot(train_losses, label='Training loss')\n",
        "plt.plot(test_losses, label='Validation loss')\n",
        "plt.legend(frameon=False)"
      ],
      "execution_count": 0,
      "outputs": []
    },
    {
      "cell_type": "code",
      "metadata": {
        "id": "dxHVrQbC4EFX",
        "colab_type": "code",
        "colab": {}
      },
      "source": [
        "model.eval()"
      ],
      "execution_count": 0,
      "outputs": []
    },
    {
      "cell_type": "markdown",
      "metadata": {
        "id": "kpeQqVgEFU5k",
        "colab_type": "text"
      },
      "source": [
        "# saving model"
      ]
    },
    {
      "cell_type": "code",
      "metadata": {
        "id": "Vo6puSggFUkS",
        "colab_type": "code",
        "colab": {}
      },
      "source": [
        "model.save('name',path)"
      ],
      "execution_count": 0,
      "outputs": []
    },
    {
      "cell_type": "markdown",
      "metadata": {
        "id": "-twyCt7YGHV3",
        "colab_type": "text"
      },
      "source": [
        "# Loading images"
      ]
    },
    {
      "cell_type": "code",
      "metadata": {
        "id": "Gauq5tj7GJms",
        "colab_type": "code",
        "colab": {}
      },
      "source": [
        "import matplotlib.pyplot as plt\n",
        "\n",
        "import torch\n",
        "from torchvision import datasets, transforms\n",
        "\n",
        "#import helper\n",
        "\n",
        "#keep images in format data/train data/test\n",
        "\n",
        "data_dir = 'hello/'\n",
        "\n",
        "train_transforms = transforms.Compose([\n",
        "                                          transforms.RandomRotation(30),\n",
        "                                        transforms.RandomResizedCrop(224),\n",
        "                                       transforms.RandomHorizontalFlip(),\n",
        "                                       transforms.ToTensor() ])\n",
        "\n",
        "test_transforms = transforms.Compose([transforms.Resize(255),\n",
        "                                      transforms.CenterCrop(224),\n",
        "                                      transforms.ToTensor()])\n",
        "\n",
        "\n",
        "# Pass transforms in here, then run the next cell to see how the transforms look\n",
        "train_data = datasets.ImageFolder(data_dir + '/train', transform=train_transforms)\n",
        "test_data = datasets.ImageFolder(data_dir + '/test', transform=test_transforms)\n",
        "\n",
        "\n",
        "# DataLoaders take input you provide and returns them back in batches with corresponding labels"
      ],
      "execution_count": 0,
      "outputs": []
    },
    {
      "cell_type": "code",
      "metadata": {
        "id": "9nSnmfVFHeSv",
        "colab_type": "code",
        "colab": {}
      },
      "source": [
        "# Loading train and testdata one by one as they need iterator \n",
        "\n",
        "data_iter = iter(testloader)\n",
        "\n",
        "images, labels = next(data_iter)\n",
        "fig, axes = plt.subplots(figsize=(10,4), ncols=4)\n",
        "for ii in range(4):\n",
        "    ax = axes[ii]\n",
        "    helper.imshow(images[ii], ax=ax, normalize=False)"
      ],
      "execution_count": 0,
      "outputs": []
    },
    {
      "cell_type": "markdown",
      "metadata": {
        "id": "ohi5ZrYcJfpq",
        "colab_type": "text"
      },
      "source": [
        "# Transfer Learning"
      ]
    },
    {
      "cell_type": "code",
      "metadata": {
        "id": "ADQgyi8XJkC-",
        "colab_type": "code",
        "colab": {}
      },
      "source": [
        "import matplotlib.pyplot as plt\n",
        "\n",
        "import torch\n",
        "from torch import nn\n",
        "from torch import optim\n",
        "import torch.nn.functional as F\n",
        "from torchvision import datasets, transforms, models\n",
        "'''\n",
        "Most of the pretrained models require the input to be 224x224 images. Also, we'll need to match the normalization \n",
        "used when the models were trained. Each color channel was normalized separately, \n",
        "the means are [0.485, 0.456, 0.406] and the standard deviations are [0.229, 0.224, 0.225].\n",
        "\n",
        "'''"
      ],
      "execution_count": 0,
      "outputs": []
    },
    {
      "cell_type": "markdown",
      "metadata": {
        "id": "rVWLzfGiKleQ",
        "colab_type": "text"
      },
      "source": [
        "### loading images"
      ]
    },
    {
      "cell_type": "code",
      "metadata": {
        "id": "SpYF5WE8Jz_v",
        "colab_type": "code",
        "colab": {}
      },
      "source": [
        "data_dir = 'Cat_Dog_data'\n",
        "\n",
        "# TODO: Define transforms for the training data and testing data\n",
        "train_transforms = transforms.Compose([transforms.RandomRotation(30),\n",
        "                                       transforms.RandomResizedCrop(224),\n",
        "                                       transforms.RandomHorizontalFlip(),\n",
        "                                       transforms.ToTensor(),\n",
        "                                       transforms.Normalize([0.485, 0.456, 0.406],\n",
        "                                                            [0.229, 0.224, 0.225])])\n",
        "\n",
        "test_transforms = transforms.Compose([transforms.Resize(255),\n",
        "                                      transforms.CenterCrop(224),\n",
        "                                      transforms.ToTensor(),\n",
        "                                      transforms.Normalize([0.485, 0.456, 0.406],\n",
        "                                                           [0.229, 0.224, 0.225])])\n",
        "\n",
        "# Pass transforms in here, then run the next cell to see how the transforms look\n",
        "train_data = datasets.ImageFolder(data_dir + '/train', transform=train_transforms)\n",
        "test_data = datasets.ImageFolder(data_dir + '/test', transform=test_transforms)\n",
        "\n",
        "trainloader = torch.utils.data.DataLoader(train_data, batch_size=64, shuffle=True)\n",
        "testloader = torch.utils.data.DataLoader(test_data, batch_size=64)"
      ],
      "execution_count": 0,
      "outputs": []
    },
    {
      "cell_type": "code",
      "metadata": {
        "id": "xPkG5Ds4J6PD",
        "colab_type": "code",
        "colab": {}
      },
      "source": [
        "model = models.densenet121(pretrained=True)\n",
        "model"
      ],
      "execution_count": 0,
      "outputs": []
    },
    {
      "cell_type": "markdown",
      "metadata": {
        "id": "037YpElTJ9lm",
        "colab_type": "text"
      },
      "source": [
        "## new method of making a model than above"
      ]
    },
    {
      "cell_type": "code",
      "metadata": {
        "id": "fQo2qOkEKB87",
        "colab_type": "code",
        "colab": {
          "base_uri": "https://localhost:8080/",
          "height": 180
        },
        "outputId": "da3185cb-3670-4a02-8cf9-ad089df3f313"
      },
      "source": [
        "## Use GPU if it's available\n",
        "device = torch.device(\"cuda\" if torch.cuda.is_available() else \"cpu\")\n",
        "\n",
        "# Freeze parameters so we don't backprop through them\n",
        "for param in model.parameters():\n",
        "    param.requires_grad = False\n",
        "    \n",
        "from collections import OrderedDict\n",
        "\n",
        "classifier = nn.Sequential(OrderedDict([\n",
        "                            ('fc1',nn.Linear(1024,500)),\n",
        "                            ('relu',nn.ReLU()),\n",
        "                            ('fc2', nn.Linear(500, 2)),\n",
        "                          ('output', nn.LogSoftmax(dim=1))\n",
        "                          ]))\n",
        "    \n",
        "model.classifier = classifier \n"
      ],
      "execution_count": 1,
      "outputs": [
        {
          "output_type": "error",
          "ename": "NameError",
          "evalue": "ignored",
          "traceback": [
            "\u001b[0;31m---------------------------------------------------------------------------\u001b[0m",
            "\u001b[0;31mNameError\u001b[0m                                 Traceback (most recent call last)",
            "\u001b[0;32m<ipython-input-1-3cc1feba7d68>\u001b[0m in \u001b[0;36m<module>\u001b[0;34m()\u001b[0m\n\u001b[0;32m----> 1\u001b[0;31m \u001b[0;32mfor\u001b[0m \u001b[0mparam\u001b[0m \u001b[0;32min\u001b[0m \u001b[0mmodel\u001b[0m\u001b[0;34m.\u001b[0m\u001b[0mparameters\u001b[0m\u001b[0;34m(\u001b[0m\u001b[0;34m)\u001b[0m\u001b[0;34m:\u001b[0m\u001b[0;34m\u001b[0m\u001b[0;34m\u001b[0m\u001b[0m\n\u001b[0m\u001b[1;32m      2\u001b[0m     \u001b[0mparam\u001b[0m\u001b[0;34m.\u001b[0m\u001b[0mrequires_grad\u001b[0m \u001b[0;34m=\u001b[0m \u001b[0;32mFalse\u001b[0m\u001b[0;34m\u001b[0m\u001b[0;34m\u001b[0m\u001b[0m\n",
            "\u001b[0;31mNameError\u001b[0m: name 'model' is not defined"
          ]
        }
      ]
    },
    {
      "cell_type": "markdown",
      "metadata": {
        "id": "OuvN4qreLPmD",
        "colab_type": "text"
      },
      "source": [
        "## or can use this method"
      ]
    },
    {
      "cell_type": "code",
      "metadata": {
        "id": "5QoCuo9hKMht",
        "colab_type": "code",
        "colab": {}
      },
      "source": [
        "model = models.densenet121(pretrained=True)\n",
        "\n",
        "# Freeze parameters so we don't backprop through them\n",
        "for param in model.parameters():\n",
        "    param.requires_grad = False\n",
        "    \n",
        "model.classifier = nn.Sequential(nn.Linear(1024, 256),\n",
        "                                 nn.ReLU(),\n",
        "                                 nn.Dropout(0.2),\n",
        "                                 nn.Linear(256, 2),\n",
        "                                 nn.LogSoftmax(dim=1))\n",
        "\n",
        "criterion = nn.NLLLoss()\n",
        "\n",
        "# Only train the classifier parameters, feature parameters are frozen\n",
        "optimizer = optim.Adam(model.classifier.parameters(), lr=0.003)\n",
        "\n",
        "model.to(device);"
      ],
      "execution_count": 0,
      "outputs": []
    },
    {
      "cell_type": "code",
      "metadata": {
        "id": "Hhuzjb8fLhvY",
        "colab_type": "code",
        "colab": {}
      },
      "source": [
        "epochs = 1\n",
        "steps = 0\n",
        "running_loss = 0\n",
        "print_every = 5\n",
        "for epoch in range(epochs):\n",
        "    for inputs, labels in trainloader:\n",
        "        steps += 1\n",
        "        # Move input and label tensors to the default device\n",
        "        inputs, labels = inputs.to(device), labels.to(device)\n",
        "        \n",
        "        optimizer.zero_grad()\n",
        "        \n",
        "        logps = model.forward(inputs)\n",
        "        loss = criterion(logps, labels)\n",
        "        loss.backward()\n",
        "        optimizer.step()\n",
        "\n",
        "        running_loss += loss.item()\n",
        "        \n",
        "        if steps % print_every == 0:\n",
        "            test_loss = 0\n",
        "            accuracy = 0\n",
        "            model.eval()\n",
        "            with torch.no_grad():\n",
        "                for inputs, labels in testloader:\n",
        "                    inputs, labels = inputs.to(device), labels.to(device)\n",
        "                    logps = model.forward(inputs)\n",
        "                    batch_loss = criterion(logps, labels)\n",
        "                    \n",
        "                    test_loss += batch_loss.item()\n",
        "                    \n",
        "                    # Calculate accuracy\n",
        "                    ps = torch.exp(logps)\n",
        "                    top_p, top_class = ps.topk(1, dim=1)\n",
        "                    equals = top_class == labels.view(*top_class.shape)\n",
        "                    accuracy += torch.mean(equals.type(torch.FloatTensor)).item()\n",
        "                    \n",
        "            print(f\"Epoch {epoch+1}/{epochs}.. \"\n",
        "                  f\"Train loss: {running_loss/print_every:.3f}.. \"\n",
        "                  f\"Test loss: {test_loss/len(testloader):.3f}.. \"\n",
        "                  f\"Test accuracy: {accuracy/len(testloader):.3f}\")\n",
        "            running_loss = 0\n",
        "            model.train()"
      ],
      "execution_count": 0,
      "outputs": []
    }
  ]
}
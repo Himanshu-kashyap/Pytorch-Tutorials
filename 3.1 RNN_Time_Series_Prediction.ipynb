{
  "nbformat": 4,
  "nbformat_minor": 0,
  "metadata": {
    "colab": {
      "name": "3.1 Pytorch RNN Time Series Prediction.ipynb",
      "version": "0.3.2",
      "provenance": [],
      "include_colab_link": true
    },
    "kernelspec": {
      "name": "python3",
      "display_name": "Python 3"
    }
  },
  "cells": [
    {
      "cell_type": "markdown",
      "metadata": {
        "id": "view-in-github",
        "colab_type": "text"
      },
      "source": [
        "<a href=\"https://colab.research.google.com/github/Himanshu-kashyap/Pytorch-Tutorials/blob/master/3.1%20RNN_Time_Series_Prediction.ipynb\" target=\"_parent\"><img src=\"https://colab.research.google.com/assets/colab-badge.svg\" alt=\"Open In Colab\"/></a>"
      ]
    },
    {
      "cell_type": "markdown",
      "metadata": {
        "id": "O8J5BWDp2yN7",
        "colab_type": "text"
      },
      "source": [
        "## generating random data and predicting "
      ]
    },
    {
      "cell_type": "code",
      "metadata": {
        "id": "wvmYvMUstxB7",
        "colab_type": "code",
        "colab": {}
      },
      "source": [
        "import torch\n",
        "from torch import nn \n",
        "import numpy as np\n",
        "import matplotlib.pyplot as plt"
      ],
      "execution_count": 0,
      "outputs": []
    },
    {
      "cell_type": "code",
      "metadata": {
        "id": "OfyhSwyX3MNi",
        "colab_type": "code",
        "outputId": "19758da0-5db6-4766-9516-258ec01b5121",
        "colab": {
          "base_uri": "https://localhost:8080/",
          "height": 323
        }
      },
      "source": [
        "# generating random data\n",
        "## y is basically x, shifted 1 timestep into the future\n",
        "\n",
        "\n",
        "seq_size = 20 # batch size to take at a time to train from \n",
        "\n",
        "#generate evenly spaced data points\n",
        "\n",
        "time_steps = np.linspace(0,np.pi,seq_size+1)  # generating numbers from 0 to pi\n",
        "data = np.sin(time_steps)\n",
        "data.resize((seq_size+1,1))\n",
        "\n",
        "x = data[:-1]\n",
        "y = data[1:]\n",
        "\n",
        "#print the data\n",
        "plt.figure(figsize =(5,5))\n",
        "plt.plot(time_steps[1:], x, 'r*', label='input, x') # x\n",
        "plt.plot(time_steps[1:], y, 'b.', label='target, y') # y\n",
        "\n",
        "plt.legend(loc = 'best')\n",
        "plt.show()\n",
        "\n"
      ],
      "execution_count": 29,
      "outputs": [
        {
          "output_type": "display_data",
          "data": {
            "image/png": "[encoded data removed]",
            "text/plain": [
              "<Figure size 360x360 with 1 Axes>"
            ]
          },
          "metadata": {
            "tags": []
          }
        }
      ]
    },
    {
      "cell_type": "markdown",
      "metadata": {
        "id": "BQWtpXgNeVax",
        "colab_type": "text"
      },
      "source": [
        "## define the class"
      ]
    },
    {
      "cell_type": "code",
      "metadata": {
        "id": "YVUnfV3rccp6",
        "colab_type": "code",
        "colab": {}
      },
      "source": [
        "# torch.rnn defines an hidden state ht = tanh(wx+wh+b)\n",
        "\n",
        "# takes in input and initial hidden state: \n",
        "# returns output and new hidden state\n",
        "'''\n",
        "input_size - the size of the input\n",
        "hidden_dim - the number of features in the RNN output and in the hidden state\n",
        "n_layers - the number of layers that make up the RNN, typically 1-3; greater than 1 means that you'll create a stacked RNN\n",
        "batch_first - whether or not the input/output of the RNN will have the batch_size as the first dimension (batch_size, seq_length, hidden_dim)\n",
        "'''\n",
        "\n",
        "class RNN(nn.Module):\n",
        "  def __init__(self,input_size,output_size,hidden_dim,n_layers):\n",
        "    super(RNN,self).__init__()\n",
        "    \n",
        "    self.hidden_dim = hidden_dim                                             # saving it in a var to use in forward pass function\n",
        "    self.rnn = nn.RNN(input_size,hidden_dim,n_layers,batch_first = True)     # defining a rnn; batch_first = true means 1st arg will be batch size\n",
        "    \n",
        "    self.fc = nn.Linear(hidden_dim,output_size)                              # defining a fully connected layer to predict outputs take input as hidden dim \n",
        "    \n",
        "  def forward(self,x,hidden):\n",
        "    \n",
        "    # x(batch_size,seq_length,input_size)\n",
        "    # hidden(n_layers,batch_size,hidden_dim)\n",
        "    # r_out(batch_size,time_step, hidden_size)\n",
        "    \n",
        "    \n",
        "    batch_size = x.size(0)   # batch size is the size of batches in which training data will be taken\n",
        "    \n",
        "    r_out, hidden = self.rnn(x,hidden)\n",
        "    r_out = r_out.view(-1,self.hidden_dim)  # this shape would be (batch_size*seq_length, hidden_dim)\n",
        "    \n",
        "    output = self.fc(r_out)  # final output  -- to fully connected layer\n",
        "    \n",
        "    return output,hidden\n",
        "    \n",
        "     \n",
        "  "
      ],
      "execution_count": 0,
      "outputs": []
    },
    {
      "cell_type": "markdown",
      "metadata": {
        "id": "Pa237DUbeYhO",
        "colab_type": "text"
      },
      "source": [
        "## test the inputs"
      ]
    },
    {
      "cell_type": "code",
      "metadata": {
        "id": "BwTm3oMwebQF",
        "colab_type": "code",
        "colab": {
          "base_uri": "https://localhost:8080/",
          "height": 106
        },
        "outputId": "d704ed0b-2956-45e7-eadd-f273f5564f87"
      },
      "source": [
        "test_rnn = RNN(input_size = 1, output_size = 1, hidden_dim = 10,n_layers = 2)\n",
        "\n",
        "timesteps = np.linspace(0,np.pi,20)\n",
        "test_data = np.sin(timesteps)\n",
        "\n",
        "test_data.resize((20,1))\n",
        "\n",
        "test_input = torch.Tensor(test_data).unsqueeze(0)\n",
        "print(\"\\ninput size\\n\", test_input.size())\n",
        "\n",
        "\n",
        "test_out,test_h = test_rnn(test_input,None)\n",
        "print(\"output_size\",test_out.size(),\"\\n hidden state size\",test_h.size())\n"
      ],
      "execution_count": 35,
      "outputs": [
        {
          "output_type": "stream",
          "text": [
            "\n",
            "input size\n",
            " torch.Size([1, 20, 1])\n",
            "output_size torch.Size([20, 1]) \n",
            " hidden state size torch.Size([2, 1, 10])\n"
          ],
          "name": "stdout"
        }
      ]
    },
    {
      "cell_type": "markdown",
      "metadata": {
        "id": "fRjvIyJQ-Vxw",
        "colab_type": "text"
      },
      "source": [
        "## Training the Model"
      ]
    },
    {
      "cell_type": "code",
      "metadata": {
        "id": "rz_iHLcrA4mv",
        "colab_type": "code",
        "colab": {
          "base_uri": "https://localhost:8080/",
          "height": 88
        },
        "outputId": "19b610da-86b6-4902-cbb3-7571f683989a"
      },
      "source": [
        "input_size = 1\n",
        "output_size = 1\n",
        "hidden_dim = 32\n",
        "n_layers = 1\n",
        "\n",
        "rnn = RNN(input_size,output_size,hidden_dim,n_layers)\n",
        "print(rnn)\n"
      ],
      "execution_count": 36,
      "outputs": [
        {
          "output_type": "stream",
          "text": [
            "RNN(\n",
            "  (rnn): RNN(1, 32, batch_first=True)\n",
            "  (fc): Linear(in_features=32, out_features=1, bias=True)\n",
            ")\n"
          ],
          "name": "stdout"
        }
      ]
    },
    {
      "cell_type": "markdown",
      "metadata": {
        "id": "Vlwmj8rPhQ1v",
        "colab_type": "text"
      },
      "source": [
        "## Loss and Optimization\n"
      ]
    },
    {
      "cell_type": "code",
      "metadata": {
        "id": "I0XhziS3gsfx",
        "colab_type": "code",
        "colab": {}
      },
      "source": [
        "criterion = nn.MSELoss()\n",
        "optimizer = torch.optim.Adam(rnn.parameters(),lr = 0.01)\n"
      ],
      "execution_count": 0,
      "outputs": []
    },
    {
      "cell_type": "markdown",
      "metadata": {
        "id": "VIwMb4LfhzHX",
        "colab_type": "text"
      },
      "source": [
        "## Training function definiton"
      ]
    },
    {
      "cell_type": "code",
      "metadata": {
        "id": "OfG2IkizhpeY",
        "colab_type": "code",
        "colab": {}
      },
      "source": [
        "def train(rnn,n_steps,print_every):\n",
        "    \n",
        "    \n",
        "    seq_length = 20\n",
        "    hidden = None\n",
        "    \n",
        "    for batch_i,step in enumerate(range(n_steps)):\n",
        "      # create data\n",
        "      timesteps = np.linspace(step*np.pi,(step+1)*np.pi,seq_length+1)\n",
        "      data = np.sin(timesteps)\n",
        "      data.resize((seq_length+1,1)) #input size = 1\n",
        "      \n",
        "      \n",
        "      x = data[:-1]\n",
        "      y = data[1:]\n",
        "      \n",
        "      # convert data into tensors\n",
        "      x_tensor = torch.Tensor(x).unsqueeze(0) # unsqueeze gives a [1,batchsize] \n",
        "      y_tensor = torch.Tensor(y)\n",
        "      \n",
        "      #outputs from rnn\n",
        "      prediction,hidden = rnn(x_tensor,hidden)\n",
        "      \n",
        "      # representing memory\n",
        "      # detach hidden from it's history by making a new variable everytime, we dont take whole history this way\n",
        "      \n",
        "      hidden = hidden.data\n",
        "      \n",
        "      loss = criterion(prediction,y_tensor)\n",
        "      \n",
        "      optimizer.zero_grad()\n",
        "      loss.backward()\n",
        "      optimizer.step()\n",
        "      \n",
        "      if batch_i % print_every == 0:\n",
        "        print(\"LOSS :\" ,loss.item())\n",
        "        plt.plot(timesteps[1:],x,'r*')  # input\n",
        "        plt.plot(timesteps[1:],prediction.data.numpy().flatten(),'b.') #predictions\n",
        "        plt.show()\n",
        "        \n",
        "    return rnn   "
      ],
      "execution_count": 0,
      "outputs": []
    },
    {
      "cell_type": "code",
      "metadata": {
        "id": "q137CgJBokrw",
        "colab_type": "code",
        "colab": {
          "base_uri": "https://localhost:8080/",
          "height": 1438
        },
        "outputId": "dabc8307-7865-49e1-b078-cace0d0d2d5e"
      },
      "source": [
        "n_steps = 75\n",
        "print_every = 15\n",
        "\n",
        "train(rnn,n_steps,print_every)"
      ],
      "execution_count": 39,
      "outputs": [
        {
          "output_type": "stream",
          "text": [
            "LOSS : 0.6338561773300171\n"
          ],
          "name": "stdout"
        },
        {
          "output_type": "display_data",
          "data": {
            "image/png": "[encoded data removed]",
            "text/plain": [
              "<Figure size 432x288 with 1 Axes>"
            ]
          },
          "metadata": {
            "tags": []
          }
        },
        {
          "output_type": "stream",
          "text": [
            "LOSS : 0.036401886492967606\n"
          ],
          "name": "stdout"
        },
        {
          "output_type": "display_data",
          "data": {
            "image/png": "[encoded data removed]",
            "text/plain": [
              "<Figure size 432x288 with 1 Axes>"
            ]
          },
          "metadata": {
            "tags": []
          }
        },
        {
          "output_type": "stream",
          "text": [
            "LOSS : 0.003928148653358221\n"
          ],
          "name": "stdout"
        },
        {
          "output_type": "display_data",
          "data": {
            "image/png": "[encoded data removed]",
            "text/plain": [
              "<Figure size 432x288 with 1 Axes>"
            ]
          },
          "metadata": {
            "tags": []
          }
        },
        {
          "output_type": "stream",
          "text": [
            "LOSS : 0.00037121507921256125\n"
          ],
          "name": "stdout"
        },
        {
          "output_type": "display_data",
          "data": {
            "image/png": "[encoded data removed]",
            "text/plain": [
              "<Figure size 432x288 with 1 Axes>"
            ]
          },
          "metadata": {
            "tags": []
          }
        },
        {
          "output_type": "stream",
          "text": [
            "LOSS : 0.0015759022207930684\n"
          ],
          "name": "stdout"
        },
        {
          "output_type": "display_data",
          "data": {
            "image/png": "[encoded data removed]",
            "text/plain": [
              "<Figure size 432x288 with 1 Axes>"
            ]
          },
          "metadata": {
            "tags": []
          }
        },
        {
          "output_type": "execute_result",
          "data": {
            "text/plain": [
              "RNN(\n",
              "  (rnn): RNN(1, 32, batch_first=True)\n",
              "  (fc): Linear(in_features=32, out_features=1, bias=True)\n",
              ")"
            ]
          },
          "metadata": {
            "tags": []
          },
          "execution_count": 39
        }
      ]
    },
    {
      "cell_type": "code",
      "metadata": {
        "id": "OAr0RIu7owA_",
        "colab_type": "code",
        "colab": {}
      },
      "source": [
        ""
      ],
      "execution_count": 0,
      "outputs": []
    }
  ]
}